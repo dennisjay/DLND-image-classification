{
 "cells": [
  {
   "cell_type": "markdown",
   "metadata": {
    "collapsed": true,
    "deletable": true,
    "editable": true
   },
   "source": [
    "# Image Classification\n",
    "In this project, you'll classify images from the [CIFAR-10 dataset](https://www.cs.toronto.edu/~kriz/cifar.html).  The dataset consists of airplanes, dogs, cats, and other objects. You'll preprocess the images, then train a convolutional neural network on all the samples. The images need to be normalized and the labels need to be one-hot encoded.  You'll get to apply what you learned and build a convolutional, max pooling, dropout, and fully connected layers.  At the end, you'll get to see your neural network's predictions on the sample images.\n",
    "## Get the Data\n",
    "Run the following cell to download the [CIFAR-10 dataset for python](https://www.cs.toronto.edu/~kriz/cifar-10-python.tar.gz)."
   ]
  },
  {
   "cell_type": "code",
   "execution_count": 1,
   "metadata": {
    "collapsed": false,
    "deletable": true,
    "editable": true
   },
   "outputs": [
    {
     "name": "stdout",
     "output_type": "stream",
     "text": [
      "All files found!\n"
     ]
    }
   ],
   "source": [
    "\"\"\"\n",
    "DON'T MODIFY ANYTHING IN THIS CELL THAT IS BELOW THIS LINE\n",
    "\"\"\"\n",
    "from urllib.request import urlretrieve\n",
    "from os.path import isfile, isdir\n",
    "from tqdm import tqdm\n",
    "import problem_unittests as tests\n",
    "import tarfile\n",
    "\n",
    "cifar10_dataset_folder_path = 'cifar-10-batches-py'\n",
    "\n",
    "class DLProgress(tqdm):\n",
    "    last_block = 0\n",
    "\n",
    "    def hook(self, block_num=1, block_size=1, total_size=None):\n",
    "        self.total = total_size\n",
    "        self.update((block_num - self.last_block) * block_size)\n",
    "        self.last_block = block_num\n",
    "\n",
    "if not isfile('cifar-10-python.tar.gz'):\n",
    "    with DLProgress(unit='B', unit_scale=True, miniters=1, desc='CIFAR-10 Dataset') as pbar:\n",
    "        urlretrieve(\n",
    "            'https://www.cs.toronto.edu/~kriz/cifar-10-python.tar.gz',\n",
    "            'cifar-10-python.tar.gz',\n",
    "            pbar.hook)\n",
    "\n",
    "if not isdir(cifar10_dataset_folder_path):\n",
    "    with tarfile.open('cifar-10-python.tar.gz') as tar:\n",
    "        tar.extractall()\n",
    "        tar.close()\n",
    "\n",
    "\n",
    "tests.test_folder_path(cifar10_dataset_folder_path)"
   ]
  },
  {
   "cell_type": "markdown",
   "metadata": {
    "deletable": true,
    "editable": true
   },
   "source": [
    "## Explore the Data\n",
    "The dataset is broken into batches to prevent your machine from running out of memory.  The CIFAR-10 dataset consists of 5 batches, named `data_batch_1`, `data_batch_2`, etc.. Each batch contains the labels and images that are one of the following:\n",
    "* airplane\n",
    "* automobile\n",
    "* bird\n",
    "* cat\n",
    "* deer\n",
    "* dog\n",
    "* frog\n",
    "* horse\n",
    "* ship\n",
    "* truck\n",
    "\n",
    "Understanding a dataset is part of making predictions on the data.  Play around with the code cell below by changing the `batch_id` and `sample_id`. The `batch_id` is the id for a batch (1-5). The `sample_id` is the id for a image and label pair in the batch.\n",
    "\n",
    "Ask yourself \"What are all possible labels?\", \"What is the range of values for the image data?\", \"Are the labels in order or random?\".  Answers to questions like these will help you preprocess the data and end up with better predictions."
   ]
  },
  {
   "cell_type": "code",
   "execution_count": 2,
   "metadata": {
    "collapsed": false,
    "deletable": true,
    "editable": true
   },
   "outputs": [
    {
     "name": "stdout",
     "output_type": "stream",
     "text": [
      "\n",
      "Stats of batch 1:\n",
      "Samples: 10000\n",
      "Label Counts: {0: 1005, 1: 974, 2: 1032, 3: 1016, 4: 999, 5: 937, 6: 1030, 7: 1001, 8: 1025, 9: 981}\n",
      "First 20 Labels: [6, 9, 9, 4, 1, 1, 2, 7, 8, 3, 4, 7, 7, 2, 9, 9, 9, 3, 2, 6]\n",
      "\n",
      "Example of Image 5:\n",
      "Image - Min Value: 0 Max Value: 252\n",
      "Image - Shape: (32, 32, 3)\n",
      "Label - Label Id: 1 Name: automobile\n"
     ]
    },
    {
     "data": {
      "image/png": "[encoded data removed]",
      "text/plain": [
       "<matplotlib.figure.Figure at 0x7f59a2ff5358>"
      ]
     },
     "metadata": {
      "image/png": {
       "height": 250,
       "width": 253
      }
     },
     "output_type": "display_data"
    }
   ],
   "source": [
    "%matplotlib inline\n",
    "%config InlineBackend.figure_format = 'retina'\n",
    "\n",
    "import helper\n",
    "import numpy as np\n",
    "\n",
    "# Explore the dataset\n",
    "batch_id = 1\n",
    "sample_id = 5\n",
    "helper.display_stats(cifar10_dataset_folder_path, batch_id, sample_id)"
   ]
  },
  {
   "cell_type": "markdown",
   "metadata": {
    "deletable": true,
    "editable": true
   },
   "source": [
    "## Implement Preprocess Functions\n",
    "### Normalize\n",
    "In the cell below, implement the `normalize` function to take in image data, `x`, and return it as a normalized Numpy array. The values should be in the range of 0 to 1, inclusive.  The return object should be the same shape as `x`."
   ]
  },
  {
   "cell_type": "code",
   "execution_count": 3,
   "metadata": {
    "collapsed": false,
    "deletable": true,
    "editable": true
   },
   "outputs": [
    {
     "name": "stdout",
     "output_type": "stream",
     "text": [
      "Tests Passed\n"
     ]
    }
   ],
   "source": [
    "def normalize(x):\n",
    "    \"\"\"\n",
    "    Normalize a list of sample image data in the range of 0 to 1\n",
    "    : x: List of image data.  The image shape is (32, 32, 3)\n",
    "    : return: Numpy array of normalize data\n",
    "    \"\"\"\n",
    "    return x.astype('float32') / 255.0\n",
    "\n",
    "\n",
    "\"\"\"\n",
    "DON'T MODIFY ANYTHING IN THIS CELL THAT IS BELOW THIS LINE\n",
    "\"\"\"\n",
    "tests.test_normalize(normalize)"
   ]
  },
  {
   "cell_type": "markdown",
   "metadata": {
    "deletable": true,
    "editable": true
   },
   "source": [
    "### One-hot encode\n",
    "Just like the previous code cell, you'll be implementing a function for preprocessing.  This time, you'll implement the `one_hot_encode` function. The input, `x`, are a list of labels.  Implement the function to return the list of labels as One-Hot encoded Numpy array.  The possible values for labels are 0 to 9. The one-hot encoding function should return the same encoding for each value between each call to `one_hot_encode`.  Make sure to save the map of encodings outside the function.\n",
    "\n",
    "Hint: Don't reinvent the wheel."
   ]
  },
  {
   "cell_type": "code",
   "execution_count": 4,
   "metadata": {
    "collapsed": false,
    "deletable": true,
    "editable": true
   },
   "outputs": [
    {
     "name": "stdout",
     "output_type": "stream",
     "text": [
      "Tests Passed\n"
     ]
    }
   ],
   "source": [
    "def one_hot_encode(x):\n",
    "    \"\"\"\n",
    "    One hot encode a list of sample labels. Return a one-hot encoded vector for each label.\n",
    "    : x: List of sample Labels\n",
    "    : return: Numpy array of one-hot encoded labels\n",
    "    \"\"\"\n",
    "    \n",
    "    result = np.zeros( (len(x), 10), dtype='float32' )\n",
    "    for i, idx in enumerate(x):\n",
    "        result[i][idx] = 1\n",
    "        \n",
    "    return result\n",
    "\n",
    "\n",
    "\"\"\"\n",
    "DON'T MODIFY ANYTHING IN THIS CELL THAT IS BELOW THIS LINE\n",
    "\"\"\"\n",
    "tests.test_one_hot_encode(one_hot_encode)"
   ]
  },
  {
   "cell_type": "markdown",
   "metadata": {
    "deletable": true,
    "editable": true
   },
   "source": [
    "### Randomize Data\n",
    "As you saw from exploring the data above, the order of the samples are randomized.  It doesn't hurt to randomize it again, but you don't need to for this dataset."
   ]
  },
  {
   "cell_type": "markdown",
   "metadata": {
    "deletable": true,
    "editable": true
   },
   "source": [
    "## Preprocess all the data and save it\n",
    "Running the code cell below will preprocess all the CIFAR-10 data and save it to file. The code below also uses 10% of the training data for validation."
   ]
  },
  {
   "cell_type": "code",
   "execution_count": 5,
   "metadata": {
    "collapsed": false,
    "deletable": true,
    "editable": true
   },
   "outputs": [],
   "source": [
    "\"\"\"\n",
    "DON'T MODIFY ANYTHING IN THIS CELL\n",
    "\"\"\"\n",
    "# Preprocess Training, Validation, and Testing Data\n",
    "helper.preprocess_and_save_data(cifar10_dataset_folder_path, normalize, one_hot_encode)"
   ]
  },
  {
   "cell_type": "markdown",
   "metadata": {
    "deletable": true,
    "editable": true
   },
   "source": [
    "# Check Point\n",
    "This is your first checkpoint.  If you ever decide to come back to this notebook or have to restart the notebook, you can start from here.  The preprocessed data has been saved to disk."
   ]
  },
  {
   "cell_type": "code",
   "execution_count": 6,
   "metadata": {
    "collapsed": true,
    "deletable": true,
    "editable": true
   },
   "outputs": [],
   "source": [
    "\"\"\"\n",
    "DON'T MODIFY ANYTHING IN THIS CELL\n",
    "\"\"\"\n",
    "import pickle\n",
    "import problem_unittests as tests\n",
    "import helper\n",
    "\n",
    "# Load the Preprocessed Validation data\n",
    "valid_features, valid_labels = pickle.load(open('preprocess_validation.p', mode='rb'))"
   ]
  },
  {
   "cell_type": "markdown",
   "metadata": {
    "deletable": true,
    "editable": true
   },
   "source": [
    "## Build the network\n",
    "For the neural network, you'll build each layer into a function.  Most of the code you've seen has been outside of functions. To test your code more thoroughly, we require that you put each layer in a function.  This allows us to give you better feedback and test for simple mistakes using our unittests before you submit your project.\n",
    "\n",
    ">**Note:** If you're finding it hard to dedicate enough time for this course each week, we've provided a small shortcut to this part of the project. In the next couple of problems, you'll have the option to use classes from the [TensorFlow Layers](https://www.tensorflow.org/api_docs/python/tf/layers) or [TensorFlow Layers (contrib)](https://www.tensorflow.org/api_guides/python/contrib.layers) packages to build each layer, except the layers you build in the \"Convolutional and Max Pooling Layer\" section.  TF Layers is similar to Keras's and TFLearn's abstraction to layers, so it's easy to pickup.\n",
    "\n",
    ">However, if you would like to get the most out of this course, try to solve all the problems _without_ using anything from the TF Layers packages. You **can** still use classes from other packages that happen to have the same name as ones you find in TF Layers! For example, instead of using the TF Layers version of the `conv2d` class, [tf.layers.conv2d](https://www.tensorflow.org/api_docs/python/tf/layers/conv2d), you would want to use the TF Neural Network version of `conv2d`, [tf.nn.conv2d](https://www.tensorflow.org/api_docs/python/tf/nn/conv2d). \n",
    "\n",
    "Let's begin!\n",
    "\n",
    "### Input\n",
    "The neural network needs to read the image data, one-hot encoded labels, and dropout keep probability. Implement the following functions\n",
    "* Implement `neural_net_image_input`\n",
    " * Return a [TF Placeholder](https://www.tensorflow.org/api_docs/python/tf/placeholder)\n",
    " * Set the shape using `image_shape` with batch size set to `None`.\n",
    " * Name the TensorFlow placeholder \"x\" using the TensorFlow `name` parameter in the [TF Placeholder](https://www.tensorflow.org/api_docs/python/tf/placeholder).\n",
    "* Implement `neural_net_label_input`\n",
    " * Return a [TF Placeholder](https://www.tensorflow.org/api_docs/python/tf/placeholder)\n",
    " * Set the shape using `n_classes` with batch size set to `None`.\n",
    " * Name the TensorFlow placeholder \"y\" using the TensorFlow `name` parameter in the [TF Placeholder](https://www.tensorflow.org/api_docs/python/tf/placeholder).\n",
    "* Implement `neural_net_keep_prob_input`\n",
    " * Return a [TF Placeholder](https://www.tensorflow.org/api_docs/python/tf/placeholder) for dropout keep probability.\n",
    " * Name the TensorFlow placeholder \"keep_prob\" using the TensorFlow `name` parameter in the [TF Placeholder](https://www.tensorflow.org/api_docs/python/tf/placeholder).\n",
    "\n",
    "These names will be used at the end of the project to load your saved model.\n",
    "\n",
    "Note: `None` for shapes in TensorFlow allow for a dynamic size."
   ]
  },
  {
   "cell_type": "code",
   "execution_count": 7,
   "metadata": {
    "collapsed": false,
    "deletable": true,
    "editable": true
   },
   "outputs": [
    {
     "name": "stdout",
     "output_type": "stream",
     "text": [
      "Image Input Tests Passed.\n",
      "Label Input Tests Passed.\n",
      "Keep Prob Tests Passed.\n"
     ]
    }
   ],
   "source": [
    "import tensorflow as tf\n",
    "\n",
    "def neural_net_image_input(image_shape):\n",
    "    \"\"\"\n",
    "    Return a Tensor for a bach of image input\n",
    "    : image_shape: Shape of the images\n",
    "    : return: Tensor for image input.\n",
    "    \"\"\"\n",
    "    p_shape = (None, image_shape[0], image_shape[1], image_shape[2])\n",
    "    return tf.placeholder( tf.float32, shape=p_shape, name='x' )\n",
    "\n",
    "\n",
    "def neural_net_label_input(n_classes):\n",
    "    \"\"\"\n",
    "    Return a Tensor for a batch of label input\n",
    "    : n_classes: Number of classes\n",
    "    : return: Tensor for label input.\n",
    "    \"\"\"\n",
    "    # TODO: Implement Function\n",
    "    return tf.placeholder( tf.float32, shape=(None, n_classes), name='y' )\n",
    "\n",
    "\n",
    "def neural_net_keep_prob_input():\n",
    "    \"\"\"\n",
    "    Return a Tensor for keep probability\n",
    "    : return: Tensor for keep probability.\n",
    "    \"\"\"\n",
    "    return tf.placeholder( tf.float32, name='keep_prob')\n",
    "\n",
    "\n",
    "\"\"\"\n",
    "DON'T MODIFY ANYTHING IN THIS CELL THAT IS BELOW THIS LINE\n",
    "\"\"\"\n",
    "tf.reset_default_graph()\n",
    "tests.test_nn_image_inputs(neural_net_image_input)\n",
    "tests.test_nn_label_inputs(neural_net_label_input)\n",
    "tests.test_nn_keep_prob_inputs(neural_net_keep_prob_input)"
   ]
  },
  {
   "cell_type": "markdown",
   "metadata": {
    "deletable": true,
    "editable": true
   },
   "source": [
    "### Convolution and Max Pooling Layer\n",
    "Convolution layers have a lot of success with images. For this code cell, you should implement the function `conv2d_maxpool` to apply convolution then max pooling:\n",
    "* Create the weight and bias using `conv_ksize`, `conv_num_outputs` and the shape of `x_tensor`.\n",
    "* Apply a convolution to `x_tensor` using weight and `conv_strides`.\n",
    " * We recommend you use same padding, but you're welcome to use any padding.\n",
    "* Add bias\n",
    "* Add a nonlinear activation to the convolution.\n",
    "* Apply Max Pooling using `pool_ksize` and `pool_strides`.\n",
    " * We recommend you use same padding, but you're welcome to use any padding.\n",
    "\n",
    "**Note:** You **can't** use [TensorFlow Layers](https://www.tensorflow.org/api_docs/python/tf/layers) or [TensorFlow Layers (contrib)](https://www.tensorflow.org/api_guides/python/contrib.layers) for **this** layer, but you can still use TensorFlow's [Neural Network](https://www.tensorflow.org/api_docs/python/tf/nn) package. You may still use the shortcut option for all the **other** layers."
   ]
  },
  {
   "cell_type": "code",
   "execution_count": null,
   "metadata": {
    "collapsed": false,
    "deletable": true,
    "editable": true
   },
   "outputs": [],
   "source": [
    "def conv2d_maxpool(x_tensor, conv_num_outputs, conv_ksize, conv_strides, pool_ksize, pool_strides):\n",
    "    \"\"\"\n",
    "    Apply convolution then max pooling to x_tensor\n",
    "    :param x_tensor: TensorFlow Tensor\n",
    "    :param conv_num_outputs: Number of outputs for the convolutional layer\n",
    "    :param conv_ksize: kernal size 2-D Tuple for the convolutional layer\n",
    "    :param conv_strides: Stride 2-D Tuple for convolution\n",
    "    :param pool_ksize: kernal size 2-D Tuple for pool\n",
    "    :param pool_strides: Stride 2-D Tuple for pool\n",
    "    : return: A tensor that represents convolution and max pooling of x_tensor\n",
    "    \"\"\"\n",
    "    #Convolution Layer\n",
    "    x_tensor_shape = x_tensor.get_shape().as_list()\n",
    "    conv_ksize = [1, conv_ksize[0], conv_ksize[1], 1]\n",
    "    conv_strides = [1, conv_strides[0], conv_strides[1], 1]\n",
    "    conv_weights_shape = [conv_ksize[0], conv_ksize[1], x_tensor_shape[3], conv_num_outputs]\n",
    "    \n",
    "    conv_weights = tf.Variable(tf.truncated_normal(conv_weights_shape, stddev=0.1))\n",
    "    conv_bias = tf.Variable(tf.zeros(conv_num_outputs))\n",
    "    conv = tf.nn.conv2d( x_tensor, conv_weights, strides=conv_strides, padding='SAME' ) + conv_bias\n",
    "    conv = tf.nn.relu(conv)\n",
    "    \n",
    "    #Max Pool\n",
    "    pool_ksize = [1, pool_ksize[0], pool_ksize[1], 1]\n",
    "    pool_strides = [1, pool_strides[0], pool_strides[1], 1]\n",
    "    max_pool = tf.nn.max_pool( conv, ksize=pool_ksize, strides=pool_strides, padding='SAME')\n",
    "    \n",
    "    return max_pool \n",
    "\n",
    "\n",
    "\"\"\"\n",
    "DON'T MODIFY ANYTHING IN THIS CELL THAT IS BELOW THIS LINE\n",
    "\"\"\"\n",
    "tests.test_con_pool(conv2d_maxpool)"
   ]
  },
  {
   "cell_type": "markdown",
   "metadata": {
    "deletable": true,
    "editable": true
   },
   "source": [
    "### Flatten Layer\n",
    "Implement the `flatten` function to change the dimension of `x_tensor` from a 4-D tensor to a 2-D tensor.  The output should be the shape (*Batch Size*, *Flattened Image Size*). Shortcut option: you can use classes from the [TensorFlow Layers](https://www.tensorflow.org/api_docs/python/tf/layers) or [TensorFlow Layers (contrib)](https://www.tensorflow.org/api_guides/python/contrib.layers) packages for this layer. For more of a challenge, only use other TensorFlow packages."
   ]
  },
  {
   "cell_type": "code",
   "execution_count": null,
   "metadata": {
    "collapsed": false,
    "deletable": true,
    "editable": true
   },
   "outputs": [],
   "source": [
    "def flatten(x_tensor):\n",
    "    \"\"\"\n",
    "    Flatten x_tensor to (Batch Size, Flattened Image Size)\n",
    "    : x_tensor: A tensor of size (Batch Size, ...), where ... are the image dimensions.\n",
    "    : return: A tensor of size (Batch Size, Flattened Image Size).\n",
    "    \"\"\"\n",
    "    return tf.contrib.layers.flatten(x_tensor)\n",
    "\n",
    "\n",
    "\"\"\"\n",
    "DON'T MODIFY ANYTHING IN THIS CELL THAT IS BELOW THIS LINE\n",
    "\"\"\"\n",
    "tests.test_flatten(flatten)"
   ]
  },
  {
   "cell_type": "markdown",
   "metadata": {
    "deletable": true,
    "editable": true
   },
   "source": [
    "### Fully-Connected Layer\n",
    "Implement the `fully_conn` function to apply a fully connected layer to `x_tensor` with the shape (*Batch Size*, *num_outputs*). Shortcut option: you can use classes from the [TensorFlow Layers](https://www.tensorflow.org/api_docs/python/tf/layers) or [TensorFlow Layers (contrib)](https://www.tensorflow.org/api_guides/python/contrib.layers) packages for this layer. For more of a challenge, only use other TensorFlow packages."
   ]
  },
  {
   "cell_type": "code",
   "execution_count": null,
   "metadata": {
    "collapsed": false,
    "deletable": true,
    "editable": true
   },
   "outputs": [],
   "source": [
    "def fully_conn(x_tensor, num_outputs):\n",
    "    \"\"\"\n",
    "    Apply a fully connected layer to x_tensor using weight and bias\n",
    "    : x_tensor: A 2-D tensor where the first dimension is batch size.\n",
    "    : num_outputs: The number of output that the new tensor should be.\n",
    "    : return: A 2-D tensor where the second dimension is num_outputs.\n",
    "    \"\"\"\n",
    "    return tf.contrib.layers.fully_connected( x_tensor, num_outputs=num_outputs, activation_fn=tf.nn.relu )\n",
    "\n",
    "\n",
    "\"\"\"\n",
    "DON'T MODIFY ANYTHING IN THIS CELL THAT IS BELOW THIS LINE\n",
    "\"\"\"\n",
    "tests.test_fully_conn(fully_conn)"
   ]
  },
  {
   "cell_type": "markdown",
   "metadata": {
    "deletable": true,
    "editable": true
   },
   "source": [
    "### Output Layer\n",
    "Implement the `output` function to apply a fully connected layer to `x_tensor` with the shape (*Batch Size*, *num_outputs*). Shortcut option: you can use classes from the [TensorFlow Layers](https://www.tensorflow.org/api_docs/python/tf/layers) or [TensorFlow Layers (contrib)](https://www.tensorflow.org/api_guides/python/contrib.layers) packages for this layer. For more of a challenge, only use other TensorFlow packages.\n",
    "\n",
    "**Note:** Activation, softmax, or cross entropy should **not** be applied to this."
   ]
  },
  {
   "cell_type": "code",
   "execution_count": null,
   "metadata": {
    "collapsed": false,
    "deletable": true,
    "editable": true
   },
   "outputs": [],
   "source": [
    "def output(x_tensor, num_outputs):\n",
    "    \"\"\"\n",
    "    Apply a output layer to x_tensor using weight and bias\n",
    "    : x_tensor: A 2-D tensor where the first dimension is batch size.\n",
    "    : num_outputs: The number of output that the new tensor should be.\n",
    "    : return: A 2-D tensor where the second dimension is num_outputs.\n",
    "    \"\"\"\n",
    "    return tf.contrib.layers.fully_connected( x_tensor, num_outputs=num_outputs, activation_fn=None )\n",
    "\n",
    "\n",
    "\"\"\"\n",
    "DON'T MODIFY ANYTHING IN THIS CELL THAT IS BELOW THIS LINE\n",
    "\"\"\"\n",
    "tests.test_output(output)"
   ]
  },
  {
   "cell_type": "markdown",
   "metadata": {
    "deletable": true,
    "editable": true
   },
   "source": [
    "### Create Convolutional Model\n",
    "Implement the function `conv_net` to create a convolutional neural network model. The function takes in a batch of images, `x`, and outputs logits.  Use the layers you created above to create this model:\n",
    "\n",
    "* Apply 1, 2, or 3 Convolution and Max Pool layers\n",
    "* Apply a Flatten Layer\n",
    "* Apply 1, 2, or 3 Fully Connected Layers\n",
    "* Apply an Output Layer\n",
    "* Return the output\n",
    "* Apply [TensorFlow's Dropout](https://www.tensorflow.org/api_docs/python/tf/nn/dropout) to one or more layers in the model using `keep_prob`. "
   ]
  },
  {
   "cell_type": "code",
   "execution_count": null,
   "metadata": {
    "collapsed": false,
    "deletable": true,
    "editable": true
   },
   "outputs": [],
   "source": [
    "def conv_net(x, keep_prob):\n",
    "    \"\"\"\n",
    "    Create a convolutional neural network model\n",
    "    : x: Placeholder tensor that holds image data.\n",
    "    : keep_prob: Placeholder tensor that hold dropout keep probability.\n",
    "    : return: Tensor that represents logits\n",
    "    \"\"\"    \n",
    "    x = conv2d_maxpool(x, 16, (3,3), (1,1), (2,2), (2,2))\n",
    "    x = tf.layers.dropout(x, keep_prob)\n",
    "    x = conv2d_maxpool(x, 32, (3,3), (1,1), (2,2), (2,2))\n",
    "    x = tf.layers.dropout(x, keep_prob)\n",
    "    x = conv2d_maxpool(x, 64, (3,3), (1,1), (2,2), (2,2))\n",
    "\n",
    "    \n",
    "    x = flatten(x)\n",
    "    x = fully_conn(x, 512)\n",
    "    x = tf.layers.dropout(x, keep_prob)\n",
    "    x = fully_conn(x, 128)\n",
    "    x = tf.layers.dropout(x, keep_prob)\n",
    "    return output(x, 10)\n",
    "\n",
    "\n",
    "\"\"\"\n",
    "DON'T MODIFY ANYTHING IN THIS CELL THAT IS BELOW THIS LINE\n",
    "\"\"\"\n",
    "\n",
    "##############################\n",
    "## Build the Neural Network ##\n",
    "##############################\n",
    "\n",
    "# Remove previous weights, bias, inputs, etc..\n",
    "tf.reset_default_graph()\n",
    "\n",
    "# Inputs\n",
    "x = neural_net_image_input((32, 32, 3))\n",
    "y = neural_net_label_input(10)\n",
    "keep_prob = neural_net_keep_prob_input()\n",
    "\n",
    "# Model\n",
    "logits = conv_net(x, keep_prob)\n",
    "\n",
    "# Name logits Tensor, so that is can be loaded from disk after training\n",
    "logits = tf.identity(logits, name='logits')\n",
    "\n",
    "# Loss and Optimizer\n",
    "cost = tf.reduce_mean(tf.nn.softmax_cross_entropy_with_logits(logits=logits, labels=y))\n",
    "optimizer = tf.train.AdamOptimizer().minimize(cost)\n",
    "\n",
    "# Accuracy\n",
    "correct_pred = tf.equal(tf.argmax(logits, 1), tf.argmax(y, 1))\n",
    "accuracy = tf.reduce_mean(tf.cast(correct_pred, tf.float32), name='accuracy')\n",
    "\n",
    "tf.summary.scalar('loss',cost)\n",
    "tf.summary.scalar('accuracy',accuracy)\n",
    "\n",
    "tests.test_conv_net(conv_net)"
   ]
  },
  {
   "cell_type": "markdown",
   "metadata": {
    "deletable": true,
    "editable": true
   },
   "source": [
    "## Train the Neural Network\n",
    "### Single Optimization\n",
    "Implement the function `train_neural_network` to do a single optimization.  The optimization should use `optimizer` to optimize in `session` with a `feed_dict` of the following:\n",
    "* `x` for image input\n",
    "* `y` for labels\n",
    "* `keep_prob` for keep probability for dropout\n",
    "\n",
    "This function will be called for each batch, so `tf.global_variables_initializer()` has already been called.\n",
    "\n",
    "Note: Nothing needs to be returned. This function is only optimizing the neural network."
   ]
  },
  {
   "cell_type": "code",
   "execution_count": null,
   "metadata": {
    "collapsed": false,
    "deletable": true,
    "editable": true
   },
   "outputs": [],
   "source": [
    "def train_neural_network(session, optimizer, keep_probability, feature_batch, label_batch, merged=None):\n",
    "    \"\"\"\n",
    "    Optimize the session on a batch of images and labels\n",
    "    : session: Current TensorFlow session\n",
    "    : optimizer: TensorFlow optimizer function\n",
    "    : keep_probability: keep probability\n",
    "    : feature_batch: Batch of Numpy image data\n",
    "    : label_batch: Batch of Numpy label data\n",
    "    \"\"\"\n",
    "    \n",
    "    feed_dict = {keep_prob: keep_probability, x: feature_batch, y:label_batch}\n",
    "    if merged is None:\n",
    "        session.run( optimizer, feed_dict=feed_dict)\n",
    "    else:     \n",
    "        _, summary_str = session.run( [optimizer, merged], feed_dict=feed_dict)\n",
    "        return summary_str\n",
    "\n",
    "\n",
    "\"\"\"\n",
    "DON'T MODIFY ANYTHING IN THIS CELL THAT IS BELOW THIS LINE\n",
    "\"\"\"\n",
    "tests.test_train_nn(train_neural_network)"
   ]
  },
  {
   "cell_type": "markdown",
   "metadata": {
    "deletable": true,
    "editable": true
   },
   "source": [
    "### Show Stats\n",
    "Implement the function `print_stats` to print loss and validation accuracy.  Use the global variables `valid_features` and `valid_labels` to calculate validation accuracy.  Use a keep probability of `1.0` to calculate the loss and validation accuracy."
   ]
  },
  {
   "cell_type": "code",
   "execution_count": null,
   "metadata": {
    "collapsed": false,
    "deletable": true,
    "editable": true
   },
   "outputs": [],
   "source": [
    "def print_stats(session, feature_batch, label_batch, cost, accuracy):\n",
    "    \"\"\"\n",
    "    Print information about loss and validation accuracy\n",
    "    : session: Current TensorFlow session\n",
    "    : feature_batch: Batch of Numpy image data\n",
    "    : label_batch: Batch of Numpy label data\n",
    "    : cost: TensorFlow cost function\n",
    "    : accuracy: TensorFlow accuracy function\n",
    "    \"\"\"\n",
    "    \n",
    "    feed_dict = {keep_prob: 1.0, x: feature_batch, y:label_batch}\n",
    "    t_c, t_a = session.run( [cost, accuracy], feed_dict=feed_dict )\n",
    "    \n",
    "    feed_dict = {keep_prob: 1.0, x: valid_features, y:valid_labels}\n",
    "    v_c, v_a = session.run( [cost, accuracy], feed_dict=feed_dict )\n",
    "    \n",
    "    print( \"train_cost %0.3f\\ttrain_acc %0.3f\\tvalid_cost %0.5f\\tvalid_acc %0.5f\" % (t_c, t_a, v_c, v_a) )    "
   ]
  },
  {
   "cell_type": "markdown",
   "metadata": {
    "deletable": true,
    "editable": true
   },
   "source": [
    "### Hyperparameters\n",
    "Tune the following parameters:\n",
    "* Set `epochs` to the number of iterations until the network stops learning or start overfitting\n",
    "* Set `batch_size` to the highest number that your machine has memory for.  Most people set them to common sizes of memory:\n",
    " * 64\n",
    " * 128\n",
    " * 256\n",
    " * ...\n",
    "* Set `keep_probability` to the probability of keeping a node using dropout"
   ]
  },
  {
   "cell_type": "code",
   "execution_count": 29,
   "metadata": {
    "collapsed": true,
    "deletable": true,
    "editable": true
   },
   "outputs": [],
   "source": [
    "# TODO: Tune Parameters\n",
    "epochs = 50\n",
    "batch_size = 512\n",
    "keep_probability = 0.75"
   ]
  },
  {
   "cell_type": "markdown",
   "metadata": {
    "deletable": true,
    "editable": true
   },
   "source": [
    "### Train on a Single CIFAR-10 Batch\n",
    "Instead of training the neural network on all the CIFAR-10 batches of data, let's use a single batch. This should save time while you iterate on the model to get a better accuracy.  Once the final validation accuracy is 50% or greater, run the model on all the data in the next section."
   ]
  },
  {
   "cell_type": "code",
   "execution_count": 31,
   "metadata": {
    "collapsed": false,
    "deletable": true,
    "editable": true
   },
   "outputs": [
    {
     "name": "stdout",
     "output_type": "stream",
     "text": [
      "Checking the Training on a Single Batch...\n",
      "Epoch  1, CIFAR-10 Batch 1:  train_cost 2.136\ttrain_acc 0.236\tvalid_cost 2.11626\tvalid_acc 0.23380\n",
      "Epoch  2, CIFAR-10 Batch 1:  train_cost 2.009\ttrain_acc 0.324\tvalid_cost 1.95079\tvalid_acc 0.29780\n",
      "Epoch  3, CIFAR-10 Batch 1:  train_cost 1.874\ttrain_acc 0.368\tvalid_cost 1.83367\tvalid_acc 0.35200\n",
      "Epoch  4, CIFAR-10 Batch 1:  train_cost 1.773\ttrain_acc 0.382\tvalid_cost 1.75955\tvalid_acc 0.38160\n",
      "Epoch  5, CIFAR-10 Batch 1:  train_cost 1.717\ttrain_acc 0.405\tvalid_cost 1.68462\tvalid_acc 0.40040\n",
      "Epoch  6, CIFAR-10 Batch 1:  train_cost 1.643\ttrain_acc 0.436\tvalid_cost 1.63119\tvalid_acc 0.42320\n",
      "Epoch  7, CIFAR-10 Batch 1:  train_cost 1.607\ttrain_acc 0.456\tvalid_cost 1.59380\tvalid_acc 0.43500\n",
      "Epoch  8, CIFAR-10 Batch 1:  train_cost 1.550\ttrain_acc 0.449\tvalid_cost 1.56365\tvalid_acc 0.45600\n",
      "Epoch  9, CIFAR-10 Batch 1:  train_cost 1.506\ttrain_acc 0.473\tvalid_cost 1.53300\tvalid_acc 0.46520\n",
      "Epoch 10, CIFAR-10 Batch 1:  train_cost 1.474\ttrain_acc 0.480\tvalid_cost 1.50791\tvalid_acc 0.47740\n",
      "Epoch 11, CIFAR-10 Batch 1:  train_cost 1.437\ttrain_acc 0.490\tvalid_cost 1.48368\tvalid_acc 0.48200\n",
      "Epoch 12, CIFAR-10 Batch 1:  train_cost 1.408\ttrain_acc 0.497\tvalid_cost 1.46678\tvalid_acc 0.48760\n",
      "Epoch 13, CIFAR-10 Batch 1:  train_cost 1.374\ttrain_acc 0.520\tvalid_cost 1.44266\tvalid_acc 0.49140\n",
      "Epoch 14, CIFAR-10 Batch 1:  train_cost 1.342\ttrain_acc 0.551\tvalid_cost 1.42276\tvalid_acc 0.49920\n",
      "Epoch 15, CIFAR-10 Batch 1:  train_cost 1.312\ttrain_acc 0.574\tvalid_cost 1.40464\tvalid_acc 0.50520\n",
      "Epoch 16, CIFAR-10 Batch 1:  train_cost 1.289\ttrain_acc 0.571\tvalid_cost 1.39265\tvalid_acc 0.50980\n",
      "Epoch 17, CIFAR-10 Batch 1:  train_cost 1.262\ttrain_acc 0.581\tvalid_cost 1.37674\tvalid_acc 0.51540\n",
      "Epoch 18, CIFAR-10 Batch 1:  train_cost 1.233\ttrain_acc 0.591\tvalid_cost 1.36015\tvalid_acc 0.51880\n",
      "Epoch 19, CIFAR-10 Batch 1:  train_cost 1.209\ttrain_acc 0.601\tvalid_cost 1.34830\tvalid_acc 0.52600\n",
      "Epoch 20, CIFAR-10 Batch 1:  train_cost 1.182\ttrain_acc 0.622\tvalid_cost 1.33898\tvalid_acc 0.53020\n",
      "Epoch 21, CIFAR-10 Batch 1:  train_cost 1.159\ttrain_acc 0.618\tvalid_cost 1.33134\tvalid_acc 0.53380\n",
      "Epoch 22, CIFAR-10 Batch 1:  train_cost 1.136\ttrain_acc 0.625\tvalid_cost 1.32259\tvalid_acc 0.53800\n",
      "Epoch 23, CIFAR-10 Batch 1:  train_cost 1.108\ttrain_acc 0.639\tvalid_cost 1.31275\tvalid_acc 0.54340\n",
      "Epoch 24, CIFAR-10 Batch 1:  train_cost 1.080\ttrain_acc 0.635\tvalid_cost 1.30428\tvalid_acc 0.54300\n",
      "Epoch 25, CIFAR-10 Batch 1:  train_cost 1.051\ttrain_acc 0.645\tvalid_cost 1.29830\tvalid_acc 0.54160\n",
      "Epoch 26, CIFAR-10 Batch 1:  train_cost 1.029\ttrain_acc 0.659\tvalid_cost 1.29929\tvalid_acc 0.54300\n",
      "Epoch 27, CIFAR-10 Batch 1:  train_cost 1.007\ttrain_acc 0.669\tvalid_cost 1.30035\tvalid_acc 0.54400\n",
      "Epoch 28, CIFAR-10 Batch 1:  train_cost 0.991\ttrain_acc 0.669\tvalid_cost 1.30730\tvalid_acc 0.54240\n",
      "Epoch 29, CIFAR-10 Batch 1:  train_cost 0.959\ttrain_acc 0.676\tvalid_cost 1.29790\tvalid_acc 0.54540\n",
      "Epoch 30, CIFAR-10 Batch 1:  train_cost 0.936\ttrain_acc 0.699\tvalid_cost 1.28339\tvalid_acc 0.54720\n",
      "Epoch 31, CIFAR-10 Batch 1:  train_cost 0.899\ttrain_acc 0.709\tvalid_cost 1.27976\tvalid_acc 0.55220\n",
      "Epoch 32, CIFAR-10 Batch 1:  train_cost 0.863\ttrain_acc 0.716\tvalid_cost 1.27315\tvalid_acc 0.55660\n",
      "Epoch 33, CIFAR-10 Batch 1:  train_cost 0.838\ttrain_acc 0.726\tvalid_cost 1.27184\tvalid_acc 0.55900\n",
      "Epoch 34, CIFAR-10 Batch 1:  train_cost 0.816\ttrain_acc 0.736\tvalid_cost 1.27122\tvalid_acc 0.55860\n",
      "Epoch 35, CIFAR-10 Batch 1:  train_cost 0.789\ttrain_acc 0.757\tvalid_cost 1.27094\tvalid_acc 0.56120\n",
      "Epoch 36, CIFAR-10 Batch 1:  train_cost 0.763\ttrain_acc 0.770\tvalid_cost 1.27052\tvalid_acc 0.56420\n",
      "Epoch 37, CIFAR-10 Batch 1:  train_cost 0.736\ttrain_acc 0.774\tvalid_cost 1.26986\tvalid_acc 0.56500\n",
      "Epoch 38, CIFAR-10 Batch 1:  train_cost 0.711\ttrain_acc 0.791\tvalid_cost 1.27132\tvalid_acc 0.56500\n",
      "Epoch 39, CIFAR-10 Batch 1:  train_cost 0.689\ttrain_acc 0.791\tvalid_cost 1.27437\tvalid_acc 0.56680\n",
      "Epoch 40, CIFAR-10 Batch 1:  train_cost 0.667\ttrain_acc 0.801\tvalid_cost 1.28175\tvalid_acc 0.56600\n",
      "Epoch 41, CIFAR-10 Batch 1:  train_cost 0.649\ttrain_acc 0.797\tvalid_cost 1.29309\tvalid_acc 0.56420\n",
      "Epoch 42, CIFAR-10 Batch 1:  train_cost 0.629\ttrain_acc 0.811\tvalid_cost 1.30312\tvalid_acc 0.56460\n",
      "Epoch 43, CIFAR-10 Batch 1:  train_cost 0.610\ttrain_acc 0.804\tvalid_cost 1.31326\tvalid_acc 0.56240\n",
      "Epoch 44, CIFAR-10 Batch 1:  train_cost 0.589\ttrain_acc 0.814\tvalid_cost 1.31872\tvalid_acc 0.56060\n",
      "Epoch 45, CIFAR-10 Batch 1:  train_cost 0.569\ttrain_acc 0.814\tvalid_cost 1.32694\tvalid_acc 0.56420\n",
      "Epoch 46, CIFAR-10 Batch 1:  train_cost 0.546\ttrain_acc 0.821\tvalid_cost 1.33017\tvalid_acc 0.56300\n",
      "Epoch 47, CIFAR-10 Batch 1:  train_cost 0.525\ttrain_acc 0.834\tvalid_cost 1.33425\tvalid_acc 0.56260\n",
      "Epoch 48, CIFAR-10 Batch 1:  train_cost 0.513\ttrain_acc 0.831\tvalid_cost 1.34773\tvalid_acc 0.56300\n",
      "Epoch 49, CIFAR-10 Batch 1:  train_cost 0.520\ttrain_acc 0.831\tvalid_cost 1.37704\tvalid_acc 0.55440\n",
      "Epoch 50, CIFAR-10 Batch 1:  train_cost 0.516\ttrain_acc 0.848\tvalid_cost 1.36409\tvalid_acc 0.56040\n"
     ]
    }
   ],
   "source": [
    "\"\"\"\n",
    "DON'T MODIFY ANYTHING IN THIS CELL\n",
    "\"\"\"\n",
    "print('Checking the Training on a Single Batch...')\n",
    "with tf.Session() as sess:\n",
    "    # Initializing the variables\n",
    "    sess.run(tf.global_variables_initializer())\n",
    "    \n",
    "    #Change by DJ: Ternsorboard to get an overview over performance\n",
    "    writer = tf.summary.FileWriter('./tensorboard/', sess.graph)\n",
    "    merged = tf.summary.merge_all()\n",
    "    \n",
    "    # Training cycle\n",
    "    for epoch in range(epochs):\n",
    "        batch_i = 1\n",
    "        for i, (batch_features, batch_labels) in enumerate(helper.load_preprocess_training_batch(batch_i, batch_size)):\n",
    "            summary_str = train_neural_network(sess, optimizer, keep_probability, batch_features, batch_labels, merged)\n",
    "            writer.add_summary(summary_str, epoch * batch_size + i )\n",
    "\n",
    "        print('Epoch {:>2}, CIFAR-10 Batch {}:  '.format(epoch + 1, batch_i), end='')\n",
    "        print_stats(sess, batch_features, batch_labels, cost, accuracy)"
   ]
  },
  {
   "cell_type": "markdown",
   "metadata": {
    "deletable": true,
    "editable": true
   },
   "source": [
    "### Fully Train the Model\n",
    "Now that you got a good accuracy with a single CIFAR-10 batch, try it with all five batches."
   ]
  },
  {
   "cell_type": "code",
   "execution_count": 32,
   "metadata": {
    "collapsed": false,
    "deletable": true,
    "editable": true
   },
   "outputs": [
    {
     "name": "stdout",
     "output_type": "stream",
     "text": [
      "Training...\n",
      "Epoch  1, CIFAR-10 Batch 1:  train_cost 2.185\ttrain_acc 0.257\tvalid_cost 2.17608\tvalid_acc 0.21860\n",
      "Epoch  1, CIFAR-10 Batch 2:  train_cost 1.941\ttrain_acc 0.345\tvalid_cost 1.95507\tvalid_acc 0.29100\n",
      "Epoch  1, CIFAR-10 Batch 3:  train_cost 1.767\ttrain_acc 0.402\tvalid_cost 1.83709\tvalid_acc 0.33180\n",
      "Epoch  1, CIFAR-10 Batch 4:  train_cost 1.697\ttrain_acc 0.385\tvalid_cost 1.76268\tvalid_acc 0.36940\n",
      "Epoch  1, CIFAR-10 Batch 5:  train_cost 1.737\ttrain_acc 0.392\tvalid_cost 1.77508\tvalid_acc 0.36840\n",
      "Epoch  2, CIFAR-10 Batch 1:  train_cost 1.726\ttrain_acc 0.399\tvalid_cost 1.65618\tvalid_acc 0.41320\n",
      "Epoch  2, CIFAR-10 Batch 2:  train_cost 1.579\ttrain_acc 0.436\tvalid_cost 1.61888\tvalid_acc 0.42180\n",
      "Epoch  2, CIFAR-10 Batch 3:  train_cost 1.523\ttrain_acc 0.466\tvalid_cost 1.60659\tvalid_acc 0.42600\n",
      "Epoch  2, CIFAR-10 Batch 4:  train_cost 1.475\ttrain_acc 0.476\tvalid_cost 1.53848\tvalid_acc 0.45780\n",
      "Epoch  2, CIFAR-10 Batch 5:  train_cost 1.492\ttrain_acc 0.486\tvalid_cost 1.51958\tvalid_acc 0.45660\n",
      "Epoch  3, CIFAR-10 Batch 1:  train_cost 1.535\ttrain_acc 0.449\tvalid_cost 1.47900\tvalid_acc 0.47600\n",
      "Epoch  3, CIFAR-10 Batch 2:  train_cost 1.417\ttrain_acc 0.517\tvalid_cost 1.46454\tvalid_acc 0.48520\n",
      "Epoch  3, CIFAR-10 Batch 3:  train_cost 1.351\ttrain_acc 0.534\tvalid_cost 1.47400\tvalid_acc 0.47060\n",
      "Epoch  3, CIFAR-10 Batch 4:  train_cost 1.350\ttrain_acc 0.510\tvalid_cost 1.42643\tvalid_acc 0.49080\n",
      "Epoch  3, CIFAR-10 Batch 5:  train_cost 1.356\ttrain_acc 0.564\tvalid_cost 1.40746\tvalid_acc 0.50440\n",
      "Epoch  4, CIFAR-10 Batch 1:  train_cost 1.453\ttrain_acc 0.473\tvalid_cost 1.38638\tvalid_acc 0.50760\n",
      "Epoch  4, CIFAR-10 Batch 2:  train_cost 1.330\ttrain_acc 0.547\tvalid_cost 1.38957\tvalid_acc 0.51260\n",
      "Epoch  4, CIFAR-10 Batch 3:  train_cost 1.264\ttrain_acc 0.581\tvalid_cost 1.40008\tvalid_acc 0.49780\n",
      "Epoch  4, CIFAR-10 Batch 4:  train_cost 1.267\ttrain_acc 0.544\tvalid_cost 1.35153\tvalid_acc 0.51580\n",
      "Epoch  4, CIFAR-10 Batch 5:  train_cost 1.264\ttrain_acc 0.578\tvalid_cost 1.33505\tvalid_acc 0.53080\n",
      "Epoch  5, CIFAR-10 Batch 1:  train_cost 1.390\ttrain_acc 0.490\tvalid_cost 1.33281\tvalid_acc 0.51800\n",
      "Epoch  5, CIFAR-10 Batch 2:  train_cost 1.239\ttrain_acc 0.588\tvalid_cost 1.31834\tvalid_acc 0.53400\n",
      "Epoch  5, CIFAR-10 Batch 3:  train_cost 1.185\ttrain_acc 0.595\tvalid_cost 1.32782\tvalid_acc 0.52520\n",
      "Epoch  5, CIFAR-10 Batch 4:  train_cost 1.193\ttrain_acc 0.561\tvalid_cost 1.30575\tvalid_acc 0.53040\n",
      "Epoch  5, CIFAR-10 Batch 5:  train_cost 1.187\ttrain_acc 0.608\tvalid_cost 1.27750\tvalid_acc 0.55160\n",
      "Epoch  6, CIFAR-10 Batch 1:  train_cost 1.333\ttrain_acc 0.510\tvalid_cost 1.27237\tvalid_acc 0.53640\n",
      "Epoch  6, CIFAR-10 Batch 2:  train_cost 1.170\ttrain_acc 0.615\tvalid_cost 1.26079\tvalid_acc 0.55020\n",
      "Epoch  6, CIFAR-10 Batch 3:  train_cost 1.115\ttrain_acc 0.601\tvalid_cost 1.27321\tvalid_acc 0.54180\n",
      "Epoch  6, CIFAR-10 Batch 4:  train_cost 1.114\ttrain_acc 0.605\tvalid_cost 1.25658\tvalid_acc 0.54960\n",
      "Epoch  6, CIFAR-10 Batch 5:  train_cost 1.122\ttrain_acc 0.611\tvalid_cost 1.23211\tvalid_acc 0.55780\n",
      "Epoch  7, CIFAR-10 Batch 1:  train_cost 1.286\ttrain_acc 0.520\tvalid_cost 1.22781\tvalid_acc 0.55440\n",
      "Epoch  7, CIFAR-10 Batch 2:  train_cost 1.118\ttrain_acc 0.628\tvalid_cost 1.21679\tvalid_acc 0.56880\n",
      "Epoch  7, CIFAR-10 Batch 3:  train_cost 1.048\ttrain_acc 0.625\tvalid_cost 1.22867\tvalid_acc 0.55840\n",
      "Epoch  7, CIFAR-10 Batch 4:  train_cost 1.044\ttrain_acc 0.632\tvalid_cost 1.21217\tvalid_acc 0.56720\n",
      "Epoch  7, CIFAR-10 Batch 5:  train_cost 1.072\ttrain_acc 0.628\tvalid_cost 1.19536\tvalid_acc 0.56960\n",
      "Epoch  8, CIFAR-10 Batch 1:  train_cost 1.248\ttrain_acc 0.554\tvalid_cost 1.20251\tvalid_acc 0.56480\n",
      "Epoch  8, CIFAR-10 Batch 2:  train_cost 1.072\ttrain_acc 0.642\tvalid_cost 1.18109\tvalid_acc 0.57600\n",
      "Epoch  8, CIFAR-10 Batch 3:  train_cost 0.997\ttrain_acc 0.622\tvalid_cost 1.19675\tvalid_acc 0.57140\n",
      "Epoch  8, CIFAR-10 Batch 4:  train_cost 0.988\ttrain_acc 0.655\tvalid_cost 1.17986\tvalid_acc 0.57460\n",
      "Epoch  8, CIFAR-10 Batch 5:  train_cost 1.022\ttrain_acc 0.632\tvalid_cost 1.16573\tvalid_acc 0.58100\n",
      "Epoch  9, CIFAR-10 Batch 1:  train_cost 1.199\ttrain_acc 0.578\tvalid_cost 1.17144\tvalid_acc 0.57080\n",
      "Epoch  9, CIFAR-10 Batch 2:  train_cost 1.024\ttrain_acc 0.662\tvalid_cost 1.15031\tvalid_acc 0.58420\n",
      "Epoch  9, CIFAR-10 Batch 3:  train_cost 0.952\ttrain_acc 0.655\tvalid_cost 1.16918\tvalid_acc 0.58440\n",
      "Epoch  9, CIFAR-10 Batch 4:  train_cost 0.939\ttrain_acc 0.666\tvalid_cost 1.15549\tvalid_acc 0.58520\n",
      "Epoch  9, CIFAR-10 Batch 5:  train_cost 0.976\ttrain_acc 0.639\tvalid_cost 1.14163\tvalid_acc 0.58980\n",
      "Epoch 10, CIFAR-10 Batch 1:  train_cost 1.151\ttrain_acc 0.588\tvalid_cost 1.14753\tvalid_acc 0.58280\n",
      "Epoch 10, CIFAR-10 Batch 2:  train_cost 0.989\ttrain_acc 0.669\tvalid_cost 1.12725\tvalid_acc 0.58860\n",
      "Epoch 10, CIFAR-10 Batch 3:  train_cost 0.914\ttrain_acc 0.672\tvalid_cost 1.14391\tvalid_acc 0.59440\n",
      "Epoch 10, CIFAR-10 Batch 4:  train_cost 0.891\ttrain_acc 0.682\tvalid_cost 1.13107\tvalid_acc 0.59140\n",
      "Epoch 10, CIFAR-10 Batch 5:  train_cost 0.931\ttrain_acc 0.645\tvalid_cost 1.11845\tvalid_acc 0.60100\n",
      "Epoch 11, CIFAR-10 Batch 1:  train_cost 1.102\ttrain_acc 0.605\tvalid_cost 1.12270\tvalid_acc 0.59240\n",
      "Epoch 11, CIFAR-10 Batch 2:  train_cost 0.957\ttrain_acc 0.686\tvalid_cost 1.10668\tvalid_acc 0.59560\n",
      "Epoch 11, CIFAR-10 Batch 3:  train_cost 0.875\ttrain_acc 0.682\tvalid_cost 1.12357\tvalid_acc 0.59820\n",
      "Epoch 11, CIFAR-10 Batch 4:  train_cost 0.843\ttrain_acc 0.706\tvalid_cost 1.11044\tvalid_acc 0.59980\n",
      "Epoch 11, CIFAR-10 Batch 5:  train_cost 0.885\ttrain_acc 0.669\tvalid_cost 1.10045\tvalid_acc 0.60400\n",
      "Epoch 12, CIFAR-10 Batch 1:  train_cost 1.052\ttrain_acc 0.618\tvalid_cost 1.10397\tvalid_acc 0.60160\n",
      "Epoch 12, CIFAR-10 Batch 2:  train_cost 0.926\ttrain_acc 0.696\tvalid_cost 1.08920\tvalid_acc 0.60360\n",
      "Epoch 12, CIFAR-10 Batch 3:  train_cost 0.849\ttrain_acc 0.689\tvalid_cost 1.10703\tvalid_acc 0.60140\n",
      "Epoch 12, CIFAR-10 Batch 4:  train_cost 0.806\ttrain_acc 0.723\tvalid_cost 1.09563\tvalid_acc 0.60700\n",
      "Epoch 12, CIFAR-10 Batch 5:  train_cost 0.842\ttrain_acc 0.713\tvalid_cost 1.08430\tvalid_acc 0.60640\n",
      "Epoch 13, CIFAR-10 Batch 1:  train_cost 1.009\ttrain_acc 0.639\tvalid_cost 1.08945\tvalid_acc 0.60760\n",
      "Epoch 13, CIFAR-10 Batch 2:  train_cost 0.899\ttrain_acc 0.699\tvalid_cost 1.07351\tvalid_acc 0.60920\n",
      "Epoch 13, CIFAR-10 Batch 3:  train_cost 0.819\ttrain_acc 0.696\tvalid_cost 1.08931\tvalid_acc 0.60460\n",
      "Epoch 13, CIFAR-10 Batch 4:  train_cost 0.769\ttrain_acc 0.736\tvalid_cost 1.07868\tvalid_acc 0.61340\n",
      "Epoch 13, CIFAR-10 Batch 5:  train_cost 0.806\ttrain_acc 0.720\tvalid_cost 1.07299\tvalid_acc 0.61060\n",
      "Epoch 14, CIFAR-10 Batch 1:  train_cost 0.969\ttrain_acc 0.666\tvalid_cost 1.07692\tvalid_acc 0.61160\n",
      "Epoch 14, CIFAR-10 Batch 2:  train_cost 0.874\ttrain_acc 0.686\tvalid_cost 1.06342\tvalid_acc 0.61460\n",
      "Epoch 14, CIFAR-10 Batch 3:  train_cost 0.784\ttrain_acc 0.726\tvalid_cost 1.06738\tvalid_acc 0.61240\n",
      "Epoch 14, CIFAR-10 Batch 4:  train_cost 0.728\ttrain_acc 0.757\tvalid_cost 1.06457\tvalid_acc 0.61840\n",
      "Epoch 14, CIFAR-10 Batch 5:  train_cost 0.770\ttrain_acc 0.723\tvalid_cost 1.06444\tvalid_acc 0.61520\n",
      "Epoch 15, CIFAR-10 Batch 1:  train_cost 0.937\ttrain_acc 0.666\tvalid_cost 1.07077\tvalid_acc 0.61260\n",
      "Epoch 15, CIFAR-10 Batch 2:  train_cost 0.848\ttrain_acc 0.716\tvalid_cost 1.05554\tvalid_acc 0.61940\n",
      "Epoch 15, CIFAR-10 Batch 3:  train_cost 0.759\ttrain_acc 0.743\tvalid_cost 1.05436\tvalid_acc 0.61800\n",
      "Epoch 15, CIFAR-10 Batch 4:  train_cost 0.696\ttrain_acc 0.764\tvalid_cost 1.05717\tvalid_acc 0.62020\n",
      "Epoch 15, CIFAR-10 Batch 5:  train_cost 0.738\ttrain_acc 0.730\tvalid_cost 1.05624\tvalid_acc 0.62140\n",
      "Epoch 16, CIFAR-10 Batch 1:  train_cost 0.913\ttrain_acc 0.676\tvalid_cost 1.07426\tvalid_acc 0.61500\n",
      "Epoch 16, CIFAR-10 Batch 2:  train_cost 0.824\ttrain_acc 0.713\tvalid_cost 1.04887\tvalid_acc 0.62200\n",
      "Epoch 16, CIFAR-10 Batch 3:  train_cost 0.739\ttrain_acc 0.736\tvalid_cost 1.04352\tvalid_acc 0.62160\n",
      "Epoch 16, CIFAR-10 Batch 4:  train_cost 0.665\ttrain_acc 0.787\tvalid_cost 1.05083\tvalid_acc 0.62220\n",
      "Epoch 16, CIFAR-10 Batch 5:  train_cost 0.715\ttrain_acc 0.743\tvalid_cost 1.05610\tvalid_acc 0.62140\n",
      "Epoch 17, CIFAR-10 Batch 1:  train_cost 0.879\ttrain_acc 0.686\tvalid_cost 1.07245\tvalid_acc 0.61480\n",
      "Epoch 17, CIFAR-10 Batch 2:  train_cost 0.801\ttrain_acc 0.730\tvalid_cost 1.04473\tvalid_acc 0.62120\n",
      "Epoch 17, CIFAR-10 Batch 3:  train_cost 0.715\ttrain_acc 0.757\tvalid_cost 1.03754\tvalid_acc 0.62640\n",
      "Epoch 17, CIFAR-10 Batch 4:  train_cost 0.638\ttrain_acc 0.794\tvalid_cost 1.04548\tvalid_acc 0.62900\n",
      "Epoch 17, CIFAR-10 Batch 5:  train_cost 0.679\ttrain_acc 0.760\tvalid_cost 1.05299\tvalid_acc 0.62440\n",
      "Epoch 18, CIFAR-10 Batch 1:  train_cost 0.842\ttrain_acc 0.706\tvalid_cost 1.06077\tvalid_acc 0.61800\n",
      "Epoch 18, CIFAR-10 Batch 2:  train_cost 0.778\ttrain_acc 0.733\tvalid_cost 1.03730\tvalid_acc 0.62280\n",
      "Epoch 18, CIFAR-10 Batch 3:  train_cost 0.689\ttrain_acc 0.764\tvalid_cost 1.02782\tvalid_acc 0.63260\n",
      "Epoch 18, CIFAR-10 Batch 4:  train_cost 0.605\ttrain_acc 0.807\tvalid_cost 1.03377\tvalid_acc 0.63180\n",
      "Epoch 18, CIFAR-10 Batch 5:  train_cost 0.645\ttrain_acc 0.777\tvalid_cost 1.04591\tvalid_acc 0.63040\n",
      "Epoch 19, CIFAR-10 Batch 1:  train_cost 0.801\ttrain_acc 0.723\tvalid_cost 1.04560\tvalid_acc 0.62320\n",
      "Epoch 19, CIFAR-10 Batch 2:  train_cost 0.747\ttrain_acc 0.753\tvalid_cost 1.03081\tvalid_acc 0.62580\n",
      "Epoch 19, CIFAR-10 Batch 3:  train_cost 0.664\ttrain_acc 0.770\tvalid_cost 1.02332\tvalid_acc 0.63640\n",
      "Epoch 19, CIFAR-10 Batch 4:  train_cost 0.579\ttrain_acc 0.828\tvalid_cost 1.02719\tvalid_acc 0.63340\n",
      "Epoch 19, CIFAR-10 Batch 5:  train_cost 0.617\ttrain_acc 0.797\tvalid_cost 1.03869\tvalid_acc 0.63500\n",
      "Epoch 20, CIFAR-10 Batch 1:  train_cost 0.760\ttrain_acc 0.740\tvalid_cost 1.02773\tvalid_acc 0.62900\n",
      "Epoch 20, CIFAR-10 Batch 2:  train_cost 0.715\ttrain_acc 0.757\tvalid_cost 1.02614\tvalid_acc 0.62760\n",
      "Epoch 20, CIFAR-10 Batch 3:  train_cost 0.640\ttrain_acc 0.784\tvalid_cost 1.02354\tvalid_acc 0.63960\n",
      "Epoch 20, CIFAR-10 Batch 4:  train_cost 0.554\ttrain_acc 0.824\tvalid_cost 1.02347\tvalid_acc 0.63860\n",
      "Epoch 20, CIFAR-10 Batch 5:  train_cost 0.591\ttrain_acc 0.818\tvalid_cost 1.03598\tvalid_acc 0.63560\n",
      "Epoch 21, CIFAR-10 Batch 1:  train_cost 0.732\ttrain_acc 0.747\tvalid_cost 1.02357\tvalid_acc 0.63200\n",
      "Epoch 21, CIFAR-10 Batch 2:  train_cost 0.686\ttrain_acc 0.750\tvalid_cost 1.02191\tvalid_acc 0.62940\n",
      "Epoch 21, CIFAR-10 Batch 3:  train_cost 0.615\ttrain_acc 0.791\tvalid_cost 1.02102\tvalid_acc 0.63780\n",
      "Epoch 21, CIFAR-10 Batch 4:  train_cost 0.532\ttrain_acc 0.834\tvalid_cost 1.02299\tvalid_acc 0.64060\n",
      "Epoch 21, CIFAR-10 Batch 5:  train_cost 0.559\ttrain_acc 0.841\tvalid_cost 1.02853\tvalid_acc 0.63780\n",
      "Epoch 22, CIFAR-10 Batch 1:  train_cost 0.700\ttrain_acc 0.760\tvalid_cost 1.01581\tvalid_acc 0.63560\n",
      "Epoch 22, CIFAR-10 Batch 2:  train_cost 0.657\ttrain_acc 0.767\tvalid_cost 1.02627\tvalid_acc 0.63280\n",
      "Epoch 22, CIFAR-10 Batch 3:  train_cost 0.588\ttrain_acc 0.804\tvalid_cost 1.01769\tvalid_acc 0.64420\n",
      "Epoch 22, CIFAR-10 Batch 4:  train_cost 0.505\ttrain_acc 0.841\tvalid_cost 1.02258\tvalid_acc 0.64020\n",
      "Epoch 22, CIFAR-10 Batch 5:  train_cost 0.533\ttrain_acc 0.841\tvalid_cost 1.02534\tvalid_acc 0.63960\n",
      "Epoch 23, CIFAR-10 Batch 1:  train_cost 0.676\ttrain_acc 0.760\tvalid_cost 1.01794\tvalid_acc 0.63860\n",
      "Epoch 23, CIFAR-10 Batch 2:  train_cost 0.624\ttrain_acc 0.777\tvalid_cost 1.02382\tvalid_acc 0.63480\n",
      "Epoch 23, CIFAR-10 Batch 3:  train_cost 0.559\ttrain_acc 0.814\tvalid_cost 1.01510\tvalid_acc 0.64580\n",
      "Epoch 23, CIFAR-10 Batch 4:  train_cost 0.483\ttrain_acc 0.851\tvalid_cost 1.02758\tvalid_acc 0.64060\n",
      "Epoch 23, CIFAR-10 Batch 5:  train_cost 0.509\ttrain_acc 0.851\tvalid_cost 1.02446\tvalid_acc 0.64200\n",
      "Epoch 24, CIFAR-10 Batch 1:  train_cost 0.654\ttrain_acc 0.760\tvalid_cost 1.02491\tvalid_acc 0.63740\n",
      "Epoch 24, CIFAR-10 Batch 2:  train_cost 0.593\ttrain_acc 0.791\tvalid_cost 1.02780\tvalid_acc 0.63800\n",
      "Epoch 24, CIFAR-10 Batch 3:  train_cost 0.533\ttrain_acc 0.828\tvalid_cost 1.01479\tvalid_acc 0.64920\n",
      "Epoch 24, CIFAR-10 Batch 4:  train_cost 0.465\ttrain_acc 0.861\tvalid_cost 1.03700\tvalid_acc 0.64340\n",
      "Epoch 24, CIFAR-10 Batch 5:  train_cost 0.484\ttrain_acc 0.855\tvalid_cost 1.02690\tvalid_acc 0.63920\n",
      "Epoch 25, CIFAR-10 Batch 1:  train_cost 0.649\ttrain_acc 0.753\tvalid_cost 1.03976\tvalid_acc 0.63840\n",
      "Epoch 25, CIFAR-10 Batch 2:  train_cost 0.576\ttrain_acc 0.811\tvalid_cost 1.03371\tvalid_acc 0.63580\n",
      "Epoch 25, CIFAR-10 Batch 3:  train_cost 0.531\ttrain_acc 0.838\tvalid_cost 1.03491\tvalid_acc 0.64360\n",
      "Epoch 25, CIFAR-10 Batch 4:  train_cost 0.450\ttrain_acc 0.868\tvalid_cost 1.04469\tvalid_acc 0.64480\n",
      "Epoch 25, CIFAR-10 Batch 5:  train_cost 0.481\ttrain_acc 0.858\tvalid_cost 1.08597\tvalid_acc 0.62960\n",
      "Epoch 26, CIFAR-10 Batch 1:  train_cost 0.643\ttrain_acc 0.753\tvalid_cost 1.06080\tvalid_acc 0.63420\n",
      "Epoch 26, CIFAR-10 Batch 2:  train_cost 0.543\ttrain_acc 0.807\tvalid_cost 1.01132\tvalid_acc 0.64600\n",
      "Epoch 26, CIFAR-10 Batch 3:  train_cost 0.547\ttrain_acc 0.804\tvalid_cost 1.06760\tvalid_acc 0.63580\n",
      "Epoch 26, CIFAR-10 Batch 4:  train_cost 0.451\ttrain_acc 0.868\tvalid_cost 1.05522\tvalid_acc 0.64060\n",
      "Epoch 26, CIFAR-10 Batch 5:  train_cost 0.508\ttrain_acc 0.834\tvalid_cost 1.16014\tvalid_acc 0.61120\n",
      "Epoch 27, CIFAR-10 Batch 1:  train_cost 0.575\ttrain_acc 0.777\tvalid_cost 1.03703\tvalid_acc 0.63920\n",
      "Epoch 27, CIFAR-10 Batch 2:  train_cost 0.501\ttrain_acc 0.824\tvalid_cost 1.02335\tvalid_acc 0.64660\n",
      "Epoch 27, CIFAR-10 Batch 3:  train_cost 0.503\ttrain_acc 0.848\tvalid_cost 1.05496\tvalid_acc 0.64180\n",
      "Epoch 27, CIFAR-10 Batch 4:  train_cost 0.451\ttrain_acc 0.855\tvalid_cost 1.09909\tvalid_acc 0.63680\n",
      "Epoch 27, CIFAR-10 Batch 5:  train_cost 0.487\ttrain_acc 0.845\tvalid_cost 1.10375\tvalid_acc 0.62160\n",
      "Epoch 28, CIFAR-10 Batch 1:  train_cost 0.572\ttrain_acc 0.801\tvalid_cost 1.03722\tvalid_acc 0.64520\n",
      "Epoch 28, CIFAR-10 Batch 2:  train_cost 0.487\ttrain_acc 0.858\tvalid_cost 1.04075\tvalid_acc 0.64380\n",
      "Epoch 28, CIFAR-10 Batch 3:  train_cost 0.487\ttrain_acc 0.841\tvalid_cost 1.05522\tvalid_acc 0.64640\n",
      "Epoch 28, CIFAR-10 Batch 4:  train_cost 0.465\ttrain_acc 0.841\tvalid_cost 1.09216\tvalid_acc 0.63180\n",
      "Epoch 28, CIFAR-10 Batch 5:  train_cost 0.464\ttrain_acc 0.865\tvalid_cost 1.02414\tvalid_acc 0.64320\n",
      "Epoch 29, CIFAR-10 Batch 1:  train_cost 0.515\ttrain_acc 0.824\tvalid_cost 1.01408\tvalid_acc 0.65120\n",
      "Epoch 29, CIFAR-10 Batch 2:  train_cost 0.504\ttrain_acc 0.841\tvalid_cost 1.09351\tvalid_acc 0.63340\n",
      "Epoch 29, CIFAR-10 Batch 3:  train_cost 0.476\ttrain_acc 0.834\tvalid_cost 1.06983\tvalid_acc 0.65040\n",
      "Epoch 29, CIFAR-10 Batch 4:  train_cost 0.409\ttrain_acc 0.875\tvalid_cost 1.06581\tvalid_acc 0.64100\n",
      "Epoch 29, CIFAR-10 Batch 5:  train_cost 0.430\ttrain_acc 0.878\tvalid_cost 1.03590\tvalid_acc 0.64240\n",
      "Epoch 30, CIFAR-10 Batch 1:  train_cost 0.486\ttrain_acc 0.831\tvalid_cost 1.03292\tvalid_acc 0.65200\n",
      "Epoch 30, CIFAR-10 Batch 2:  train_cost 0.471\ttrain_acc 0.858\tvalid_cost 1.09228\tvalid_acc 0.63280\n",
      "Epoch 30, CIFAR-10 Batch 3:  train_cost 0.439\ttrain_acc 0.855\tvalid_cost 1.06469\tvalid_acc 0.65020\n",
      "Epoch 30, CIFAR-10 Batch 4:  train_cost 0.370\ttrain_acc 0.902\tvalid_cost 1.04820\tvalid_acc 0.64540\n",
      "Epoch 30, CIFAR-10 Batch 5:  train_cost 0.406\ttrain_acc 0.872\tvalid_cost 1.04091\tvalid_acc 0.64700\n",
      "Epoch 31, CIFAR-10 Batch 1:  train_cost 0.475\ttrain_acc 0.834\tvalid_cost 1.07310\tvalid_acc 0.64160\n",
      "Epoch 31, CIFAR-10 Batch 2:  train_cost 0.430\ttrain_acc 0.858\tvalid_cost 1.07076\tvalid_acc 0.64200\n",
      "Epoch 31, CIFAR-10 Batch 3:  train_cost 0.411\ttrain_acc 0.868\tvalid_cost 1.06344\tvalid_acc 0.65080\n",
      "Epoch 31, CIFAR-10 Batch 4:  train_cost 0.364\ttrain_acc 0.905\tvalid_cost 1.05463\tvalid_acc 0.64440\n",
      "Epoch 31, CIFAR-10 Batch 5:  train_cost 0.403\ttrain_acc 0.868\tvalid_cost 1.07627\tvalid_acc 0.64280\n",
      "Epoch 32, CIFAR-10 Batch 1:  train_cost 0.452\ttrain_acc 0.838\tvalid_cost 1.09415\tvalid_acc 0.64340\n",
      "Epoch 32, CIFAR-10 Batch 2:  train_cost 0.407\ttrain_acc 0.882\tvalid_cost 1.07839\tvalid_acc 0.63620\n",
      "Epoch 32, CIFAR-10 Batch 3:  train_cost 0.401\ttrain_acc 0.868\tvalid_cost 1.08430\tvalid_acc 0.65160\n",
      "Epoch 32, CIFAR-10 Batch 4:  train_cost 0.367\ttrain_acc 0.892\tvalid_cost 1.09368\tvalid_acc 0.63580\n",
      "Epoch 32, CIFAR-10 Batch 5:  train_cost 0.357\ttrain_acc 0.909\tvalid_cost 1.08181\tvalid_acc 0.64160\n",
      "Epoch 33, CIFAR-10 Batch 1:  train_cost 0.447\ttrain_acc 0.831\tvalid_cost 1.12722\tvalid_acc 0.63760\n",
      "Epoch 33, CIFAR-10 Batch 2:  train_cost 0.395\ttrain_acc 0.882\tvalid_cost 1.09560\tvalid_acc 0.63440\n",
      "Epoch 33, CIFAR-10 Batch 3:  train_cost 0.379\ttrain_acc 0.868\tvalid_cost 1.08797\tvalid_acc 0.64680\n",
      "Epoch 33, CIFAR-10 Batch 4:  train_cost 0.322\ttrain_acc 0.922\tvalid_cost 1.07006\tvalid_acc 0.64200\n",
      "Epoch 33, CIFAR-10 Batch 5:  train_cost 0.337\ttrain_acc 0.902\tvalid_cost 1.08600\tvalid_acc 0.64900\n",
      "Epoch 34, CIFAR-10 Batch 1:  train_cost 0.445\ttrain_acc 0.848\tvalid_cost 1.16321\tvalid_acc 0.63440\n",
      "Epoch 34, CIFAR-10 Batch 2:  train_cost 0.417\ttrain_acc 0.889\tvalid_cost 1.17255\tvalid_acc 0.61960\n",
      "Epoch 34, CIFAR-10 Batch 3:  train_cost 0.429\ttrain_acc 0.851\tvalid_cost 1.15173\tvalid_acc 0.63440\n",
      "Epoch 34, CIFAR-10 Batch 4:  train_cost 0.353\ttrain_acc 0.909\tvalid_cost 1.11217\tvalid_acc 0.63260\n",
      "Epoch 34, CIFAR-10 Batch 5:  train_cost 0.337\ttrain_acc 0.926\tvalid_cost 1.08207\tvalid_acc 0.64760\n",
      "Epoch 35, CIFAR-10 Batch 1:  train_cost 0.392\ttrain_acc 0.878\tvalid_cost 1.12175\tvalid_acc 0.64280\n",
      "Epoch 35, CIFAR-10 Batch 2:  train_cost 0.451\ttrain_acc 0.868\tvalid_cost 1.26525\tvalid_acc 0.59880\n",
      "Epoch 35, CIFAR-10 Batch 3:  train_cost 0.423\ttrain_acc 0.845\tvalid_cost 1.12734\tvalid_acc 0.63740\n",
      "Epoch 35, CIFAR-10 Batch 4:  train_cost 0.328\ttrain_acc 0.916\tvalid_cost 1.10035\tvalid_acc 0.63660\n",
      "Epoch 35, CIFAR-10 Batch 5:  train_cost 0.321\ttrain_acc 0.912\tvalid_cost 1.05502\tvalid_acc 0.65440\n",
      "Epoch 36, CIFAR-10 Batch 1:  train_cost 0.367\ttrain_acc 0.878\tvalid_cost 1.10949\tvalid_acc 0.64860\n",
      "Epoch 36, CIFAR-10 Batch 2:  train_cost 0.388\ttrain_acc 0.882\tvalid_cost 1.17238\tvalid_acc 0.61900\n",
      "Epoch 36, CIFAR-10 Batch 3:  train_cost 0.384\ttrain_acc 0.868\tvalid_cost 1.11610\tvalid_acc 0.64200\n",
      "Epoch 36, CIFAR-10 Batch 4:  train_cost 0.299\ttrain_acc 0.929\tvalid_cost 1.10593\tvalid_acc 0.63680\n",
      "Epoch 36, CIFAR-10 Batch 5:  train_cost 0.298\ttrain_acc 0.926\tvalid_cost 1.07687\tvalid_acc 0.65480\n",
      "Epoch 37, CIFAR-10 Batch 1:  train_cost 0.348\ttrain_acc 0.895\tvalid_cost 1.13633\tvalid_acc 0.64680\n",
      "Epoch 37, CIFAR-10 Batch 2:  train_cost 0.374\ttrain_acc 0.885\tvalid_cost 1.18758\tvalid_acc 0.62360\n",
      "Epoch 37, CIFAR-10 Batch 3:  train_cost 0.336\ttrain_acc 0.889\tvalid_cost 1.11837\tvalid_acc 0.64720\n",
      "Epoch 37, CIFAR-10 Batch 4:  train_cost 0.284\ttrain_acc 0.922\tvalid_cost 1.12390\tvalid_acc 0.63840\n",
      "Epoch 37, CIFAR-10 Batch 5:  train_cost 0.271\ttrain_acc 0.932\tvalid_cost 1.09016\tvalid_acc 0.65320\n",
      "Epoch 38, CIFAR-10 Batch 1:  train_cost 0.328\ttrain_acc 0.892\tvalid_cost 1.15563\tvalid_acc 0.65140\n",
      "Epoch 38, CIFAR-10 Batch 2:  train_cost 0.337\ttrain_acc 0.892\tvalid_cost 1.20390\tvalid_acc 0.62200\n",
      "Epoch 38, CIFAR-10 Batch 3:  train_cost 0.324\ttrain_acc 0.899\tvalid_cost 1.14709\tvalid_acc 0.64020\n",
      "Epoch 38, CIFAR-10 Batch 4:  train_cost 0.272\ttrain_acc 0.929\tvalid_cost 1.15582\tvalid_acc 0.63220\n",
      "Epoch 38, CIFAR-10 Batch 5:  train_cost 0.255\ttrain_acc 0.939\tvalid_cost 1.09905\tvalid_acc 0.65020\n",
      "Epoch 39, CIFAR-10 Batch 1:  train_cost 0.319\ttrain_acc 0.899\tvalid_cost 1.18654\tvalid_acc 0.64380\n",
      "Epoch 39, CIFAR-10 Batch 2:  train_cost 0.271\ttrain_acc 0.936\tvalid_cost 1.14390\tvalid_acc 0.63800\n",
      "Epoch 39, CIFAR-10 Batch 3:  train_cost 0.365\ttrain_acc 0.865\tvalid_cost 1.22801\tvalid_acc 0.62820\n",
      "Epoch 39, CIFAR-10 Batch 4:  train_cost 0.240\ttrain_acc 0.966\tvalid_cost 1.11690\tvalid_acc 0.63660\n",
      "Epoch 39, CIFAR-10 Batch 5:  train_cost 0.245\ttrain_acc 0.939\tvalid_cost 1.12642\tvalid_acc 0.64980\n",
      "Epoch 40, CIFAR-10 Batch 1:  train_cost 0.302\ttrain_acc 0.916\tvalid_cost 1.19769\tvalid_acc 0.64160\n",
      "Epoch 40, CIFAR-10 Batch 2:  train_cost 0.277\ttrain_acc 0.919\tvalid_cost 1.14872\tvalid_acc 0.64140\n",
      "Epoch 40, CIFAR-10 Batch 3:  train_cost 0.287\ttrain_acc 0.905\tvalid_cost 1.18877\tvalid_acc 0.63780\n",
      "Epoch 40, CIFAR-10 Batch 4:  train_cost 0.233\ttrain_acc 0.963\tvalid_cost 1.14109\tvalid_acc 0.63780\n",
      "Epoch 40, CIFAR-10 Batch 5:  train_cost 0.214\ttrain_acc 0.963\tvalid_cost 1.14339\tvalid_acc 0.65020\n",
      "Epoch 41, CIFAR-10 Batch 1:  train_cost 0.278\ttrain_acc 0.932\tvalid_cost 1.21732\tvalid_acc 0.64340\n",
      "Epoch 41, CIFAR-10 Batch 2:  train_cost 0.264\ttrain_acc 0.926\tvalid_cost 1.19976\tvalid_acc 0.63880\n",
      "Epoch 41, CIFAR-10 Batch 3:  train_cost 0.276\ttrain_acc 0.919\tvalid_cost 1.22126\tvalid_acc 0.63600\n",
      "Epoch 41, CIFAR-10 Batch 4:  train_cost 0.217\ttrain_acc 0.946\tvalid_cost 1.16845\tvalid_acc 0.63220\n",
      "Epoch 41, CIFAR-10 Batch 5:  train_cost 0.201\ttrain_acc 0.970\tvalid_cost 1.16712\tvalid_acc 0.64940\n",
      "Epoch 42, CIFAR-10 Batch 1:  train_cost 0.254\ttrain_acc 0.943\tvalid_cost 1.24262\tvalid_acc 0.64140\n",
      "Epoch 42, CIFAR-10 Batch 2:  train_cost 0.221\ttrain_acc 0.953\tvalid_cost 1.21016\tvalid_acc 0.64200\n",
      "Epoch 42, CIFAR-10 Batch 3:  train_cost 0.273\ttrain_acc 0.916\tvalid_cost 1.28003\tvalid_acc 0.62820\n",
      "Epoch 42, CIFAR-10 Batch 4:  train_cost 0.212\ttrain_acc 0.943\tvalid_cost 1.20164\tvalid_acc 0.62960\n",
      "Epoch 42, CIFAR-10 Batch 5:  train_cost 0.201\ttrain_acc 0.973\tvalid_cost 1.21098\tvalid_acc 0.64540\n",
      "Epoch 43, CIFAR-10 Batch 1:  train_cost 0.231\ttrain_acc 0.946\tvalid_cost 1.26714\tvalid_acc 0.64420\n",
      "Epoch 43, CIFAR-10 Batch 2:  train_cost 0.179\ttrain_acc 0.973\tvalid_cost 1.18678\tvalid_acc 0.64640\n",
      "Epoch 43, CIFAR-10 Batch 3:  train_cost 0.282\ttrain_acc 0.912\tvalid_cost 1.35387\tvalid_acc 0.62300\n",
      "Epoch 43, CIFAR-10 Batch 4:  train_cost 0.223\ttrain_acc 0.936\tvalid_cost 1.25346\tvalid_acc 0.62500\n",
      "Epoch 43, CIFAR-10 Batch 5:  train_cost 0.212\ttrain_acc 0.956\tvalid_cost 1.26179\tvalid_acc 0.63860\n",
      "Epoch 44, CIFAR-10 Batch 1:  train_cost 0.203\ttrain_acc 0.959\tvalid_cost 1.26995\tvalid_acc 0.64900\n",
      "Epoch 44, CIFAR-10 Batch 2:  train_cost 0.176\ttrain_acc 0.970\tvalid_cost 1.21278\tvalid_acc 0.63860\n",
      "Epoch 44, CIFAR-10 Batch 3:  train_cost 0.255\ttrain_acc 0.922\tvalid_cost 1.36068\tvalid_acc 0.62380\n",
      "Epoch 44, CIFAR-10 Batch 4:  train_cost 0.216\ttrain_acc 0.949\tvalid_cost 1.28585\tvalid_acc 0.62060\n",
      "Epoch 44, CIFAR-10 Batch 5:  train_cost 0.212\ttrain_acc 0.949\tvalid_cost 1.29399\tvalid_acc 0.63380\n",
      "Epoch 45, CIFAR-10 Batch 1:  train_cost 0.198\ttrain_acc 0.959\tvalid_cost 1.28553\tvalid_acc 0.64840\n",
      "Epoch 45, CIFAR-10 Batch 2:  train_cost 0.171\ttrain_acc 0.973\tvalid_cost 1.28144\tvalid_acc 0.63200\n",
      "Epoch 45, CIFAR-10 Batch 3:  train_cost 0.215\ttrain_acc 0.936\tvalid_cost 1.35509\tvalid_acc 0.62660\n",
      "Epoch 45, CIFAR-10 Batch 4:  train_cost 0.194\ttrain_acc 0.970\tvalid_cost 1.31720\tvalid_acc 0.62300\n",
      "Epoch 45, CIFAR-10 Batch 5:  train_cost 0.198\ttrain_acc 0.956\tvalid_cost 1.32846\tvalid_acc 0.63520\n",
      "Epoch 46, CIFAR-10 Batch 1:  train_cost 0.198\ttrain_acc 0.956\tvalid_cost 1.31119\tvalid_acc 0.64480\n",
      "Epoch 46, CIFAR-10 Batch 2:  train_cost 0.163\ttrain_acc 0.976\tvalid_cost 1.34400\tvalid_acc 0.62900\n",
      "Epoch 46, CIFAR-10 Batch 3:  train_cost 0.196\ttrain_acc 0.943\tvalid_cost 1.37442\tvalid_acc 0.63180\n",
      "Epoch 46, CIFAR-10 Batch 4:  train_cost 0.189\ttrain_acc 0.959\tvalid_cost 1.38952\tvalid_acc 0.62020\n",
      "Epoch 46, CIFAR-10 Batch 5:  train_cost 0.197\ttrain_acc 0.949\tvalid_cost 1.36390\tvalid_acc 0.63480\n",
      "Epoch 47, CIFAR-10 Batch 1:  train_cost 0.241\ttrain_acc 0.936\tvalid_cost 1.35954\tvalid_acc 0.63220\n",
      "Epoch 47, CIFAR-10 Batch 2:  train_cost 0.165\ttrain_acc 0.963\tvalid_cost 1.39220\tvalid_acc 0.62260\n",
      "Epoch 47, CIFAR-10 Batch 3:  train_cost 0.208\ttrain_acc 0.939\tvalid_cost 1.42468\tvalid_acc 0.62620\n",
      "Epoch 47, CIFAR-10 Batch 4:  train_cost 0.182\ttrain_acc 0.956\tvalid_cost 1.46064\tvalid_acc 0.61060\n",
      "Epoch 47, CIFAR-10 Batch 5:  train_cost 0.192\ttrain_acc 0.946\tvalid_cost 1.34793\tvalid_acc 0.62280\n",
      "Epoch 48, CIFAR-10 Batch 1:  train_cost 0.271\ttrain_acc 0.929\tvalid_cost 1.37481\tvalid_acc 0.63560\n",
      "Epoch 48, CIFAR-10 Batch 2:  train_cost 0.183\ttrain_acc 0.956\tvalid_cost 1.40303\tvalid_acc 0.62680\n",
      "Epoch 48, CIFAR-10 Batch 3:  train_cost 0.251\ttrain_acc 0.922\tvalid_cost 1.52441\tvalid_acc 0.61720\n",
      "Epoch 48, CIFAR-10 Batch 4:  train_cost 0.167\ttrain_acc 0.966\tvalid_cost 1.35582\tvalid_acc 0.63000\n",
      "Epoch 48, CIFAR-10 Batch 5:  train_cost 0.247\ttrain_acc 0.932\tvalid_cost 1.42574\tvalid_acc 0.61880\n",
      "Epoch 49, CIFAR-10 Batch 1:  train_cost 0.264\ttrain_acc 0.922\tvalid_cost 1.40744\tvalid_acc 0.62940\n",
      "Epoch 49, CIFAR-10 Batch 2:  train_cost 0.254\ttrain_acc 0.939\tvalid_cost 1.49598\tvalid_acc 0.60920\n",
      "Epoch 49, CIFAR-10 Batch 3:  train_cost 0.236\ttrain_acc 0.929\tvalid_cost 1.51249\tvalid_acc 0.61960\n",
      "Epoch 49, CIFAR-10 Batch 4:  train_cost 0.195\ttrain_acc 0.963\tvalid_cost 1.31819\tvalid_acc 0.63360\n",
      "Epoch 49, CIFAR-10 Batch 5:  train_cost 0.215\ttrain_acc 0.936\tvalid_cost 1.38452\tvalid_acc 0.62400\n",
      "Epoch 50, CIFAR-10 Batch 1:  train_cost 0.182\ttrain_acc 0.953\tvalid_cost 1.37161\tvalid_acc 0.63620\n",
      "Epoch 50, CIFAR-10 Batch 2:  train_cost 0.159\ttrain_acc 0.970\tvalid_cost 1.38419\tvalid_acc 0.62700\n",
      "Epoch 50, CIFAR-10 Batch 3:  train_cost 0.207\ttrain_acc 0.943\tvalid_cost 1.44864\tvalid_acc 0.62260\n",
      "Epoch 50, CIFAR-10 Batch 4:  train_cost 0.163\ttrain_acc 0.963\tvalid_cost 1.31763\tvalid_acc 0.63700\n",
      "Epoch 50, CIFAR-10 Batch 5:  train_cost 0.177\ttrain_acc 0.959\tvalid_cost 1.39534\tvalid_acc 0.62900\n"
     ]
    }
   ],
   "source": [
    "\"\"\"\n",
    "DON'T MODIFY ANYTHING IN THIS CELL\n",
    "\"\"\"\n",
    "save_model_path = './image_classification'\n",
    "\n",
    "print('Training...')\n",
    "with tf.Session() as sess:\n",
    "    # Initializing the variables\n",
    "    sess.run(tf.global_variables_initializer())\n",
    "    \n",
    "    # Training cycle\n",
    "    for epoch in range(epochs):\n",
    "        # Loop over all batches\n",
    "        n_batches = 5\n",
    "        for batch_i in range(1, n_batches + 1):\n",
    "            for batch_features, batch_labels in helper.load_preprocess_training_batch(batch_i, batch_size):\n",
    "                train_neural_network(sess, optimizer, keep_probability, batch_features, batch_labels)\n",
    "            print('Epoch {:>2}, CIFAR-10 Batch {}:  '.format(epoch + 1, batch_i), end='')\n",
    "            print_stats(sess, batch_features, batch_labels, cost, accuracy)\n",
    "            \n",
    "    # Save Model\n",
    "    saver = tf.train.Saver()\n",
    "    save_path = saver.save(sess, save_model_path)"
   ]
  },
  {
   "cell_type": "markdown",
   "metadata": {
    "deletable": true,
    "editable": true
   },
   "source": [
    "# Checkpoint\n",
    "The model has been saved to disk.\n",
    "## Test Model\n",
    "Test your model against the test dataset.  This will be your final accuracy. You should have an accuracy greater than 50%. If you don't, keep tweaking the model architecture and parameters."
   ]
  },
  {
   "cell_type": "code",
   "execution_count": 34,
   "metadata": {
    "collapsed": false,
    "deletable": true,
    "editable": true
   },
   "outputs": [
    {
     "name": "stdout",
     "output_type": "stream",
     "text": [
      "Testing Accuracy: 0.6413947641849518\n",
      "\n"
     ]
    },
    {
     "data": {
      "image/png": "[encoded data removed]",
      "text/plain": [
       "<matplotlib.figure.Figure at 0x7f58c86fa278>"
      ]
     },
     "metadata": {
      "image/png": {
       "height": 319,
       "width": 355
      }
     },
     "output_type": "display_data"
    }
   ],
   "source": [
    "\"\"\"\n",
    "DON'T MODIFY ANYTHING IN THIS CELL\n",
    "\"\"\"\n",
    "%matplotlib inline\n",
    "%config InlineBackend.figure_format = 'retina'\n",
    "\n",
    "import tensorflow as tf\n",
    "import pickle\n",
    "import helper\n",
    "import random\n",
    "\n",
    "# Set batch size if not already set\n",
    "try:\n",
    "    if batch_size:\n",
    "        pass\n",
    "except NameError:\n",
    "    batch_size = 64\n",
    "\n",
    "save_model_path = './image_classification'\n",
    "n_samples = 4\n",
    "top_n_predictions = 3\n",
    "\n",
    "def test_model():\n",
    "    \"\"\"\n",
    "    Test the saved model against the test dataset\n",
    "    \"\"\"\n",
    "\n",
    "    test_features, test_labels = pickle.load(open('preprocess_training.p', mode='rb'))\n",
    "    loaded_graph = tf.Graph()\n",
    "\n",
    "    with tf.Session(graph=loaded_graph) as sess:\n",
    "        # Load model\n",
    "        loader = tf.train.import_meta_graph(save_model_path + '.meta')\n",
    "        loader.restore(sess, save_model_path)\n",
    "\n",
    "        # Get Tensors from loaded model\n",
    "        loaded_x = loaded_graph.get_tensor_by_name('x:0')\n",
    "        loaded_y = loaded_graph.get_tensor_by_name('y:0')\n",
    "        loaded_keep_prob = loaded_graph.get_tensor_by_name('keep_prob:0')\n",
    "        loaded_logits = loaded_graph.get_tensor_by_name('logits:0')\n",
    "        loaded_acc = loaded_graph.get_tensor_by_name('accuracy:0')\n",
    "        \n",
    "        # Get accuracy in batches for memory limitations\n",
    "        test_batch_acc_total = 0\n",
    "        test_batch_count = 0\n",
    "        \n",
    "        for train_feature_batch, train_label_batch in helper.batch_features_labels(test_features, test_labels, batch_size):\n",
    "            test_batch_acc_total += sess.run(\n",
    "                loaded_acc,\n",
    "                feed_dict={loaded_x: train_feature_batch, loaded_y: train_label_batch, loaded_keep_prob: 1.0})\n",
    "            test_batch_count += 1\n",
    "\n",
    "        print('Testing Accuracy: {}\\n'.format(test_batch_acc_total/test_batch_count))\n",
    "\n",
    "        # Print Random Samples\n",
    "        random_test_features, random_test_labels = tuple(zip(*random.sample(list(zip(test_features, test_labels)), n_samples)))\n",
    "        random_test_predictions = sess.run(\n",
    "            tf.nn.top_k(tf.nn.softmax(loaded_logits), top_n_predictions),\n",
    "            feed_dict={loaded_x: random_test_features, loaded_y: random_test_labels, loaded_keep_prob: 1.0})\n",
    "        helper.display_image_predictions(random_test_features, random_test_labels, random_test_predictions)\n",
    "\n",
    "\n",
    "test_model()"
   ]
  },
  {
   "cell_type": "markdown",
   "metadata": {
    "deletable": true,
    "editable": true
   },
   "source": [
    "## Why 50-70% Accuracy?\n",
    "You might be wondering why you can't get an accuracy any higher. First things first, 50% isn't bad for a simple CNN.  Pure guessing would get you 10% accuracy. However, you might notice people are getting scores [well above 70%](http://rodrigob.github.io/are_we_there_yet/build/classification_datasets_results.html#43494641522d3130).  That's because we haven't taught you all there is to know about neural networks. We still need to cover a few more techniques.\n",
    "## Submitting This Project\n",
    "When submitting this project, make sure to run all the cells before saving the notebook.  Save the notebook file as \"dlnd_image_classification.ipynb\" and save it as a HTML file under \"File\" -> \"Download as\".  Include the \"helper.py\" and \"problem_unittests.py\" files in your submission."
   ]
  }
 ],
 "metadata": {
  "kernelspec": {
   "display_name": "Python 3",
   "language": "python",
   "name": "python3"
  },
  "language_info": {
   "codemirror_mode": {
    "name": "ipython",
    "version": 3
   },
   "file_extension": ".py",
   "mimetype": "text/x-python",
   "name": "python",
   "nbconvert_exporter": "python",
   "pygments_lexer": "ipython3",
   "version": "3.5.2"
  },
  "widgets": {
   "state": {},
   "version": "1.1.2"
  }
 },
 "nbformat": 4,
 "nbformat_minor": 0
}
